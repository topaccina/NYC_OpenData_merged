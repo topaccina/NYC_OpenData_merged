{
 "cells": [
  {
   "cell_type": "code",
   "execution_count": 6,
   "metadata": {},
   "outputs": [],
   "source": [
    "import pandas as pd\n",
    "import numpy as np\n",
    "import warnings\n",
    "import zipfile\n",
    "import os.path\n",
    "\n",
    "warnings.filterwarnings('ignore')\n",
    "#"
   ]
  },
  {
   "cell_type": "code",
   "execution_count": 8,
   "metadata": {},
   "outputs": [],
   "source": [
    "dataFilePathStr = '../data/'\n",
    "dataFileName = 'NYC_Building_Energy_and_Water_Data_Disclosure_for_Local_Law_84__2022-Present__20250106.csv'\n",
    "\n",
    "if not os.path.isfile(dataFilePathStr + dataFileName):\n",
    "    with zipfile.ZipFile(dataFilePathStr + dataFileName[0:-4] + '.zip', 'r') as zip_ref:\n",
    "        zip_ref.extractall(dataFilePathStr)\n",
    "\n",
    "#read original data source\n",
    "df=pd.read_csv(dataFilePathStr + dataFileName)\n"
   ]
  },
  {
   "cell_type": "code",
   "execution_count": 7,
   "metadata": {},
   "outputs": [],
   "source": [
    "df_info = pd.read_csv(\n",
    "    \"../data/NYC_Community_Boards.csv\",\n",
    "    usecols=[\n",
    "        \n",
    "        \"Community Board 1\",\n",
    "      \n",
    "    ],\n",
    ")\n",
    "cbList=df_info[\"Community Board 1\"].unique().tolist()"
   ]
  },
  {
   "cell_type": "code",
   "execution_count": 8,
   "metadata": {},
   "outputs": [],
   "source": [
    "#keep property with Multifamilty housign as primary usage\n",
    "df_housing=df[df['Primary Property Type - Portfolio Manager-Calculated']=='Multifamily Housing'].reset_index().drop(columns='index')\n",
    "#transform the list of property usage into a python list\n",
    "df_housing['HousingAllPropUseCount']=df_housing['List of All Property Use Types (GFA) (ft²)'].apply(lambda x: len(x.split(',')))"
   ]
  },
  {
   "cell_type": "code",
   "execution_count": 9,
   "metadata": {},
   "outputs": [],
   "source": [
    "#keep the property Multifamilty Housign only - usage list with 1 element only\n",
    "df_housingOnly=df_housing[df_housing['HousingAllPropUseCount']==1]"
   ]
  },
  {
   "cell_type": "code",
   "execution_count": 10,
   "metadata": {},
   "outputs": [],
   "source": [
    "#trasform not available data in detectable python missing data\n",
    "df_housingOnly.replace({'Not Available':np.nan}, inplace=True)\n",
    "#keep the property with available location and ENERGY STAR Score.\n",
    "df_housingOnly.dropna(subset=['Latitude','Longitude','ENERGY STAR Score'],inplace=True)"
   ]
  },
  {
   "cell_type": "code",
   "execution_count": 11,
   "metadata": {},
   "outputs": [],
   "source": [
    "#drop the full empty columns -e.g. meaningful for non-housing usage only\n",
    "df_housingOnly.dropna(how='all', axis=1, inplace=True)"
   ]
  },
  {
   "cell_type": "code",
   "execution_count": 12,
   "metadata": {},
   "outputs": [],
   "source": [
    "#detect properties with duplicated entries for a given year- few cases of double submission (e.g. fix submitted data) - go with the most recent\n",
    "df_housingOnly.drop_duplicates(subset=['Property ID','Calendar Year','NYC Building Identification Number (BIN)','NYC Borough, Block and Lot (BBL)'],keep='last',inplace=True)\n",
    "df_housingOnly.reset_index().drop(columns='index', inplace=True)"
   ]
  },
  {
   "cell_type": "code",
   "execution_count": 13,
   "metadata": {},
   "outputs": [],
   "source": [
    "#add calculated col concatenating Borough and Community Board Number - for viz purpose\n",
    "df_housingOnly['Borough_CommBoard']=df_housingOnly['Borough']+\"_\"+df_housingOnly['Community Board'].astype(int).astype('str')"
   ]
  },
  {
   "cell_type": "code",
   "execution_count": 14,
   "metadata": {},
   "outputs": [],
   "source": [
    "df_housingOnly=df_housingOnly[df_housingOnly['Community Board'].isin(cbList)]"
   ]
  },
  {
   "cell_type": "code",
   "execution_count": 15,
   "metadata": {},
   "outputs": [],
   "source": [
    "#export the final CSV\n",
    "\n",
    "df_housingOnly.to_csv('../data/NYC_housingOnly_v0.csv', index=False)"
   ]
  },
  {
   "cell_type": "code",
   "execution_count": null,
   "metadata": {},
   "outputs": [],
   "source": []
  }
 ],
 "metadata": {
  "kernelspec": {
   "display_name": ".venv",
   "language": "python",
   "name": "python3"
  },
  "language_info": {
   "codemirror_mode": {
    "name": "ipython",
    "version": 3
   },
   "file_extension": ".py",
   "mimetype": "text/x-python",
   "name": "python",
   "nbconvert_exporter": "python",
   "pygments_lexer": "ipython3",
   "version": "3.11.10"
  }
 },
 "nbformat": 4,
 "nbformat_minor": 2
}
